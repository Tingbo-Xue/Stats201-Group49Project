{
 "cells": [
  {
   "cell_type": "markdown",
   "id": "75ec7b89-f386-41f5-9187-002230d62231",
   "metadata": {},
   "source": [
    "# Stat 201 Project"
   ]
  },
  {
   "cell_type": "markdown",
   "id": "84ccc90b-4c71-48a9-938e-763757c27087",
   "metadata": {},
   "source": [
    "#### arr\n",
    "\n",
    "\n",
    "\n",
    "\n"
   ]
  },
  {
   "cell_type": "code",
   "execution_count": null,
   "id": "d3878366-d95d-4d85-8b46-d461af8c19aa",
   "metadata": {},
   "outputs": [],
   "source": []
  }
 ],
 "metadata": {
  "kernelspec": {
   "display_name": "R",
   "language": "R",
   "name": "ir"
  },
  "language_info": {
   "codemirror_mode": "r",
   "file_extension": ".r",
   "mimetype": "text/x-r-source",
   "name": "R",
   "pygments_lexer": "r",
   "version": "4.1.3"
  }
 },
 "nbformat": 4,
 "nbformat_minor": 5
}
