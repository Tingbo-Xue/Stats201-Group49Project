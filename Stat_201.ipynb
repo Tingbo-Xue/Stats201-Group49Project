{
 "cells": [
  {
   "cell_type": "markdown",
   "id": "75ec7b89-f386-41f5-9187-002230d62231",
   "metadata": {},
   "source": [
    "# Stat 201 Project"
   ]
  },
  {
   "cell_type": "markdown",
   "id": "84ccc90b-4c71-48a9-938e-763757c27087",
   "metadata": {},
   "source": [
    "#### "
   ]
  }
 ],
 "metadata": {
  "kernelspec": {
   "display_name": "R",
   "language": "R",
   "name": "ir"
  },
  "language_info": {
   "codemirror_mode": "r",
   "file_extension": ".r",
   "mimetype": "text/x-r-source",
   "name": "R",
   "pygments_lexer": "r",
   "version": "4.1.3"
  }
 },
 "nbformat": 4,
 "nbformat_minor": 5
}
